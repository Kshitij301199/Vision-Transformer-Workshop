{
 "cells": [
  {
   "cell_type": "markdown",
   "id": "0571b970-ce54-489f-bd32-bd8ed3a36c2a",
   "metadata": {},
   "source": [
    "<img src=\"images/00-image.png\" alt=\"encoder\" class=\"bg-primary\" width=\"100%\">\n",
    "\n",
    "\n",
    "[Image Reference](https://www.planetware.com/tourist-attractions-/potsdam-d-br-pt.htm)"
   ]
  },
  {
   "cell_type": "markdown",
   "id": "73013dd2-fa90-4227-b77e-b3981879b787",
   "metadata": {},
   "source": [
    "<h1><center> Introduction To PyTorch <center></h1>\n",
    "\n",
    "Vision Transformer (ViT) paper: [Paper Reference](https://arxiv.org/abs/2010.11929)"
   ]
  },
  {
   "cell_type": "code",
   "execution_count": 1,
   "id": "e561c4b8-99ff-4064-ad5d-0305b4fc0c51",
   "metadata": {},
   "outputs": [],
   "source": [
    "import numpy as np\n",
    "import matplotlib.pyplot as plt"
   ]
  },
  {
   "cell_type": "code",
   "execution_count": 2,
   "id": "a7b9e227-de4f-4c54-bbb9-068cc8b8e061",
   "metadata": {},
   "outputs": [],
   "source": [
    "import torch\n",
    "import torch.nn as nn\n",
    "from torchinfo import summary"
   ]
  },
  {
   "cell_type": "code",
   "execution_count": 3,
   "id": "d2307d57-21ed-448e-a0e6-bbd60f77664f",
   "metadata": {},
   "outputs": [
    {
     "data": {
      "text/plain": [
       "'2.2.2'"
      ]
     },
     "execution_count": 3,
     "metadata": {},
     "output_type": "execute_result"
    }
   ],
   "source": [
    "torch.manual_seed(42)\n",
    "torch.__version__"
   ]
  },
  {
   "cell_type": "markdown",
   "id": "baea4eca-0db9-42ff-831c-7d0a3eaac5b7",
   "metadata": {},
   "source": [
    "###"
   ]
  },
  {
   "cell_type": "markdown",
   "id": "7a113504-0951-44f3-a979-acfd38729423",
   "metadata": {},
   "source": [
    "## Agnostic Pytorch Code"
   ]
  },
  {
   "cell_type": "code",
   "execution_count": 4,
   "id": "18b74dab-317e-471b-a327-fc046d3ccef0",
   "metadata": {},
   "outputs": [
    {
     "data": {
      "text/plain": [
       "False"
      ]
     },
     "execution_count": 4,
     "metadata": {},
     "output_type": "execute_result"
    }
   ],
   "source": [
    "torch.cuda.is_available()"
   ]
  },
  {
   "cell_type": "code",
   "execution_count": 5,
   "id": "5191a166-7267-470c-9dca-abb9c7b95a73",
   "metadata": {},
   "outputs": [
    {
     "data": {
      "text/plain": [
       "'cpu'"
      ]
     },
     "execution_count": 5,
     "metadata": {},
     "output_type": "execute_result"
    }
   ],
   "source": [
    "device = 'cuda' if torch.cuda.is_available() else 'cpu'\n",
    "device"
   ]
  },
  {
   "cell_type": "markdown",
   "id": "b33a87cb-2ddc-44e2-a3b6-05b3c6c65a7c",
   "metadata": {},
   "source": [
    "###"
   ]
  },
  {
   "cell_type": "markdown",
   "id": "9a59e27a-8354-465b-8b0e-8838e41c0a84",
   "metadata": {},
   "source": [
    "## Why use PyTorch?"
   ]
  },
  {
   "cell_type": "markdown",
   "id": "8716e1ad-c603-4f9f-b6b5-25d2483317fb",
   "metadata": {},
   "source": [
    "<img src=\"images/pytorch_logo2.png\" alt=\"encoder\" class=\"bg-primary\" width=\"500\">\n",
    "\n",
    "- Machine learning researchers tends use PyTorch [most used deep learning framework on Papers With Code](https://paperswithcode.com/trends)\n",
    "\n",
    "- PyTorch makes use of GPU acceleration\n",
    "\n",
    "- Pytorch model code are pythonic and usually explicit, thus aid better debugging"
   ]
  },
  {
   "cell_type": "markdown",
   "id": "a578ca18-0d53-46cc-9c07-235e2902d9ac",
   "metadata": {},
   "source": [
    "###"
   ]
  },
  {
   "cell_type": "markdown",
   "id": "5d75131e-d2be-43f1-a8c5-94266e4b9f42",
   "metadata": {},
   "source": [
    "## Python Functions"
   ]
  },
  {
   "cell_type": "code",
   "execution_count": 6,
   "id": "71509311-dd72-42f8-b645-a4784358c3ca",
   "metadata": {},
   "outputs": [],
   "source": [
    "class Rectangle:\n",
    "    \n",
    "    def __init__(self):\n",
    "        self.length = 2\n",
    "        self.width = 4"
   ]
  },
  {
   "cell_type": "code",
   "execution_count": 7,
   "id": "5c023a70-a5a3-4f87-b991-dfc930869147",
   "metadata": {},
   "outputs": [],
   "source": [
    "class Square(Rectangle):\n",
    "\n",
    "    def __init__(self):\n",
    "        super().__init__()\n",
    "\n",
    "    def area(self):\n",
    "        return self.length * self.width"
   ]
  },
  {
   "cell_type": "code",
   "execution_count": 8,
   "id": "5004f262-6273-4073-9e18-35d817468499",
   "metadata": {},
   "outputs": [
    {
     "name": "stdout",
     "output_type": "stream",
     "text": [
      "8\n"
     ]
    }
   ],
   "source": [
    "square = Square()\n",
    "print(square.area())"
   ]
  },
  {
   "cell_type": "code",
   "execution_count": 9,
   "id": "08f7de33-9584-46ab-94d9-348e57918def",
   "metadata": {},
   "outputs": [],
   "source": [
    "class Rectangle:\n",
    "\n",
    "    def __init__(self, con):\n",
    "        self.length = 2 + con\n",
    "        self.width = 4"
   ]
  },
  {
   "cell_type": "code",
   "execution_count": 10,
   "id": "9a252ee3-1b2a-492e-bb27-bd291040bb8e",
   "metadata": {},
   "outputs": [],
   "source": [
    "class Square(Rectangle):\n",
    "\n",
    "    def __init__(self, con):\n",
    "        super().__init__(con)\n",
    "\n",
    "    def area(self):\n",
    "        return self.length*self.width"
   ]
  },
  {
   "cell_type": "code",
   "execution_count": 11,
   "id": "f495ba57-e111-4b03-90ae-a50d31420103",
   "metadata": {},
   "outputs": [
    {
     "name": "stdout",
     "output_type": "stream",
     "text": [
      "36\n"
     ]
    }
   ],
   "source": [
    "square = Square(7)\n",
    "print(square.area())"
   ]
  },
  {
   "cell_type": "code",
   "execution_count": 12,
   "id": "92ce5343-be80-4616-932d-0684bc31aade",
   "metadata": {},
   "outputs": [],
   "source": [
    "class Cube(Rectangle):\n",
    "\n",
    "    def __init__(self, height, con): \n",
    "        super().__init__(con)\n",
    "        self.height = height\n",
    "\n",
    "    def volume(self):\n",
    "        return self.length*self.width*self.height"
   ]
  },
  {
   "cell_type": "code",
   "execution_count": 13,
   "id": "5892b42d-06c0-408b-a9f4-bdabcc2e937d",
   "metadata": {},
   "outputs": [
    {
     "name": "stdout",
     "output_type": "stream",
     "text": [
      "72\n"
     ]
    }
   ],
   "source": [
    "cube = Cube(height=3, con=4)\n",
    "print(cube.volume())"
   ]
  },
  {
   "cell_type": "markdown",
   "id": "e52e3366-4590-45be-858f-f63fa7bb5dfd",
   "metadata": {},
   "source": [
    "###"
   ]
  },
  {
   "cell_type": "markdown",
   "id": "ca0990c5-d1f7-42cc-9f27-17a79ad56c97",
   "metadata": {},
   "source": [
    "## PyTorch Models\n",
    "- Each linear layer has Weight and Biases\n",
    "- These are the learned parameters"
   ]
  },
  {
   "cell_type": "code",
   "execution_count": 14,
   "id": "b4190483-b412-4012-8826-c54cb6ba8a47",
   "metadata": {},
   "outputs": [],
   "source": [
    "# PyTorch Linear Model\n",
    "class Linear_Model(nn.Module):\n",
    "\n",
    "    def __init__(self):\n",
    "        super().__init__()\n",
    "\n",
    "        self.linear_layer = nn.Linear(in_features=1, \n",
    "                                      out_features=1)\n",
    "    \n",
    "    def forward(self, x) -> torch.Tensor:\n",
    "        return self.linear_layer(x)"
   ]
  },
  {
   "cell_type": "code",
   "execution_count": null,
   "id": "9898939b-5d93-4a7f-9186-d23f7efd9e13",
   "metadata": {},
   "outputs": [],
   "source": []
  },
  {
   "cell_type": "markdown",
   "id": "9655ccb9-bafe-4efb-b59b-6cc203eb63cf",
   "metadata": {},
   "source": [
    "## Training Pytorch Models"
   ]
  },
  {
   "cell_type": "code",
   "execution_count": 15,
   "id": "1d1e20a7-33d9-4b87-834e-5864823f8157",
   "metadata": {},
   "outputs": [],
   "source": [
    "### Training Loop\n",
    "def train_loop(model: torch.nn.Module,\n",
    "               loss_fn: torch.nn.Module, \n",
    "               optimizer: torch.optim.Optimizer):\n",
    "    \n",
    "    \"\"\"\n",
    "    Carries out the training loop.\n",
    "    \"\"\"\n",
    "\n",
    "    # Puts model in training mode (this is the default state of a model)\n",
    "    model.train()\n",
    "    \n",
    "    # 1. Forward pass on train data using the forward() method inside \n",
    "    y_pred = model(X_train)\n",
    "\n",
    "    # 2. Calculate the loss (how different are our models predictions to the ground truth)\n",
    "    loss = loss_fn(y_pred, y_train)\n",
    "\n",
    "    # 3. Zero grad of the optimizer\n",
    "    optimizer.zero_grad()\n",
    "\n",
    "    # 4. Loss backwards\n",
    "    loss.backward()\n",
    "\n",
    "    # 5. Progress the optimizer\n",
    "    optimizer.step()\n",
    "\n",
    "    return loss\n",
    "    \n",
    "\n",
    "### Testing Loop\n",
    "def test_loop(model: torch.nn.Module,\n",
    "              loss_fn: torch.nn.Module,\n",
    "              optimizer: torch.optim.Optimizer):\n",
    "\n",
    "    \"\"\"\n",
    "    Carries out the testing loop.\n",
    "    \"\"\"\n",
    "\n",
    "    # Puts the model in evaluation mode\n",
    "    model.eval()\n",
    "    \n",
    "    with torch.no_grad():\n",
    "        \n",
    "        # 1. Forward pass on test data\n",
    "        test_pred = model(X_test)\n",
    "        \n",
    "        # 2. Caculate loss on test data\n",
    "        test_loss = loss_fn(test_pred, y_test.type(torch.float)) # predictions come in torch.float datatype, so comparisons need to be done with tensors of the same type\n",
    "\n",
    "        return test_loss"
   ]
  },
  {
   "cell_type": "code",
   "execution_count": 16,
   "id": "4ae840b1-919d-44d0-a79b-7dcc844c88d3",
   "metadata": {},
   "outputs": [],
   "source": [
    "# Data example with 'known' parameters\n",
    "weight = 0.7\n",
    "bias = 0.3\n",
    "\n",
    "\n",
    "X = torch.arange(0, 1, 0.03).unsqueeze(dim=1)\n",
    "y = weight * X + bias\n",
    "\n",
    "train_split = int(0.8 * len(X))\n",
    "X_train, y_train = X[:train_split], y[:train_split]\n",
    "X_test, y_test = X[train_split:], y[train_split:]"
   ]
  },
  {
   "cell_type": "code",
   "execution_count": 17,
   "id": "8dcc153d",
   "metadata": {},
   "outputs": [
    {
     "data": {
      "text/plain": [
       "torch.Size([34, 1])"
      ]
     },
     "execution_count": 17,
     "metadata": {},
     "output_type": "execute_result"
    }
   ],
   "source": [
    "X.size()"
   ]
  },
  {
   "cell_type": "code",
   "execution_count": 18,
   "id": "67c23d26-6dc1-4c52-8609-adac6ff609c5",
   "metadata": {},
   "outputs": [
    {
     "data": {
      "image/png": "[encoded data removed]",
      "text/plain": [
       "<Figure size 700x400 with 1 Axes>"
      ]
     },
     "metadata": {},
     "output_type": "display_data"
    }
   ],
   "source": [
    "def plots(train_data, train_labels, test_data, test_labels, predictions=None):\n",
    "    \n",
    "    \"\"\"\n",
    "    Plots training data, test data and compares predictions.\n",
    "    \"\"\"\n",
    "    \n",
    "    plt.figure(figsize=(7, 4))\n",
    "    \n",
    "    plt.scatter(train_data, train_labels, c=\"b\", s=4, label=\"Training data\")\n",
    "    \n",
    "    plt.scatter(test_data, test_labels, c=\"g\", s=4, label=\"Testing data\")\n",
    "    \n",
    "    if predictions is not None:\n",
    "\n",
    "        plt.scatter(test_data, predictions, c=\"r\", s=4, label=\"Predictions\")\n",
    "\n",
    "    plt.legend(prop={\"size\": 14});\n",
    "\n",
    "plots(X_train, y_train, X_test, y_test, predictions=None)"
   ]
  },
  {
   "cell_type": "code",
   "execution_count": 19,
   "id": "7000581b-7fad-464b-8715-e08ade968961",
   "metadata": {},
   "outputs": [],
   "source": [
    "model = Linear_Model()\n",
    "\n",
    "# Mean Absolute Error loss for evaluation\n",
    "loss_fn = nn.L1Loss() \n",
    "\n",
    "# Optimizes newly created model's parameters\n",
    "optimizer = torch.optim.SGD(params=model.parameters(), lr=0.01)"
   ]
  },
  {
   "cell_type": "code",
   "execution_count": 20,
   "id": "8a246d4b-cfd5-44b1-92b3-5170419807f1",
   "metadata": {},
   "outputs": [
    {
     "data": {
      "text/plain": [
       "=================================================================\n",
       "Layer (type:depth-idx)                   Param #\n",
       "=================================================================\n",
       "Linear_Model                             --\n",
       "├─Linear: 1-1                            2\n",
       "=================================================================\n",
       "Total params: 2\n",
       "Trainable params: 2\n",
       "Non-trainable params: 0\n",
       "================================================================="
      ]
     },
     "execution_count": 20,
     "metadata": {},
     "output_type": "execute_result"
    }
   ],
   "source": [
    "summary(model)"
   ]
  },
  {
   "cell_type": "code",
   "execution_count": 21,
   "id": "51bd0d22-1444-4268-9169-5527eca3f931",
   "metadata": {},
   "outputs": [
    {
     "name": "stdout",
     "output_type": "stream",
     "text": [
      "Epoch: 0 | MAE Train Loss: 0.555178 | MAE Test Loss: 0.574583\n",
      "Epoch: 10 | MAE Train Loss: 0.439968 | MAE Test Loss: 0.439483\n",
      "Epoch: 20 | MAE Train Loss: 0.324758 | MAE Test Loss: 0.304383\n",
      "Epoch: 30 | MAE Train Loss: 0.209548 | MAE Test Loss: 0.169283\n",
      "Epoch: 40 | MAE Train Loss: 0.094338 | MAE Test Loss: 0.034183\n",
      "Epoch: 50 | MAE Train Loss: 0.024267 | MAE Test Loss: 0.048704\n",
      "Epoch: 60 | MAE Train Loss: 0.020132 | MAE Test Loss: 0.046776\n",
      "Epoch: 70 | MAE Train Loss: 0.016611 | MAE Test Loss: 0.038684\n",
      "Epoch: 80 | MAE Train Loss: 0.013090 | MAE Test Loss: 0.030591\n",
      "Epoch: 90 | MAE Train Loss: 0.009581 | MAE Test Loss: 0.021478\n"
     ]
    }
   ],
   "source": [
    "# Set the number of epochs (how many times the model will pass over the training data)\n",
    "epochs = 100\n",
    "\n",
    "# Create empty loss lists to track values\n",
    "train_loss_values = []\n",
    "test_loss_values = []\n",
    "epoch_count = []\n",
    "\n",
    "for epoch in range(epochs):\n",
    "    train_loss = train_loop(model, loss_fn, optimizer)\n",
    "    test_loss = test_loop(model, loss_fn, optimizer)\n",
    "    \n",
    "    if epoch % 10 == 0:\n",
    "        epoch_count.append(epoch)\n",
    "        train_loss_values.append(train_loss.detach().numpy())\n",
    "        test_loss_values.append(test_loss.detach().numpy())\n",
    "        print(f\"Epoch: {epoch} | MAE Train Loss: {train_loss.detach().numpy():.{6}f} | MAE Test Loss: {test_loss.detach().numpy():.{6}f}\")"
   ]
  },
  {
   "cell_type": "code",
   "execution_count": 22,
   "id": "1b3bb326-af76-481d-88ab-23aafc5a434e",
   "metadata": {},
   "outputs": [
    {
     "data": {
      "image/png": "[encoded data removed]",
      "text/plain": [
       "<Figure size 640x480 with 1 Axes>"
      ]
     },
     "metadata": {},
     "output_type": "display_data"
    }
   ],
   "source": [
    "# Plot the loss curves\n",
    "plt.plot(epoch_count, train_loss_values, label=\"Train loss\")\n",
    "plt.plot(epoch_count, test_loss_values, label=\"Test loss\")\n",
    "plt.title(\"Training and test loss curves\")\n",
    "plt.ylabel(\"Loss\")\n",
    "plt.xlabel(\"Epochs\")\n",
    "plt.legend();"
   ]
  },
  {
   "cell_type": "markdown",
   "id": "2dc65e27-c522-4b98-a558-82fe3bc86251",
   "metadata": {},
   "source": [
    "###"
   ]
  },
  {
   "cell_type": "markdown",
   "id": "432d7bf3-2f78-4dd8-b8a7-c6ba3d6c66a2",
   "metadata": {},
   "source": [
    "## Predicting from Pytorch Models"
   ]
  },
  {
   "cell_type": "code",
   "execution_count": 23,
   "id": "81a66786-aa62-4974-80e7-e5050abe6bb9",
   "metadata": {},
   "outputs": [],
   "source": [
    "model.eval()\n",
    "\n",
    "with torch.inference_mode():\n",
    "\n",
    "  y_preds = model(X_test)"
   ]
  },
  {
   "cell_type": "code",
   "execution_count": 24,
   "id": "66507fe4-f21f-44a1-89b0-f4fb58ae3d1a",
   "metadata": {},
   "outputs": [
    {
     "data": {
      "image/png": "[encoded data removed]",
      "text/plain": [
       "<Figure size 700x400 with 1 Axes>"
      ]
     },
     "metadata": {},
     "output_type": "display_data"
    }
   ],
   "source": [
    "plots(X_train, y_train, X_test, y_test, predictions=y_preds)"
   ]
  },
  {
   "cell_type": "code",
   "execution_count": 25,
   "id": "20a241ef-9619-4af7-b889-976814aa8cdd",
   "metadata": {},
   "outputs": [
    {
     "name": "stdout",
     "output_type": "stream",
     "text": [
      "OrderedDict([('linear_layer.weight', tensor([[0.6701]])),\n",
      "             ('linear_layer.bias', tensor([0.3122]))])\n",
      "weights: 0.7, bias: 0.3\n"
     ]
    }
   ],
   "source": [
    "from pprint import pprint\n",
    "\n",
    "pprint(model.state_dict())\n",
    "print(f\"weights: {weight}, bias: {bias}\")"
   ]
  },
  {
   "cell_type": "markdown",
   "id": "d3d5cc09-0d8f-4a77-b545-9b0e78d7cdf1",
   "metadata": {},
   "source": [
    "###"
   ]
  },
  {
   "cell_type": "markdown",
   "id": "66b51a07-f5cf-465a-b3ab-ef8bbd2b7ec7",
   "metadata": {},
   "source": [
    "## Saving Pytorch Models"
   ]
  },
  {
   "cell_type": "code",
   "execution_count": 26,
   "id": "6f1b7fe0-f30c-484e-b1da-9e32341e6618",
   "metadata": {},
   "outputs": [],
   "source": [
    "# only saving the state_dict() which only saves the models learned parameters\n",
    "torch.save(obj=model.state_dict(), f=\"linear_model\")"
   ]
  },
  {
   "cell_type": "code",
   "execution_count": 28,
   "id": "668aabb1-0c97-4a23-a33e-4cb684afe005",
   "metadata": {},
   "outputs": [],
   "source": [
    "loaded_model = torch.load(\"linear_model\")"
   ]
  },
  {
   "cell_type": "code",
   "execution_count": 29,
   "id": "3356e76d",
   "metadata": {},
   "outputs": [
    {
     "ename": "TypeError",
     "evalue": "'collections.OrderedDict' object is not callable",
     "output_type": "error",
     "traceback": [
      "\u001b[0;31m---------------------------------------------------------------------------\u001b[0m",
      "\u001b[0;31mTypeError\u001b[0m                                 Traceback (most recent call last)",
      "Cell \u001b[0;32mIn[29], line 1\u001b[0m\n\u001b[0;32m----> 1\u001b[0m \u001b[43mloaded_model\u001b[49m\u001b[43m(\u001b[49m\u001b[43mX_test\u001b[49m\u001b[43m)\u001b[49m\n",
      "\u001b[0;31mTypeError\u001b[0m: 'collections.OrderedDict' object is not callable"
     ]
    }
   ],
   "source": [
    "loaded_model(X_test)"
   ]
  },
  {
   "cell_type": "code",
   "execution_count": 30,
   "id": "550e7f15",
   "metadata": {},
   "outputs": [
    {
     "data": {
      "text/plain": [
       "<All keys matched successfully>"
      ]
     },
     "execution_count": 30,
     "metadata": {},
     "output_type": "execute_result"
    }
   ],
   "source": [
    "new_model = Linear_Model()\n",
    "new_model.load_state_dict(loaded_model)"
   ]
  },
  {
   "cell_type": "code",
   "execution_count": 31,
   "id": "95ebf003",
   "metadata": {},
   "outputs": [
    {
     "data": {
      "text/plain": [
       "tensor([[0.8550],\n",
       "        [0.8751],\n",
       "        [0.8952],\n",
       "        [0.9153],\n",
       "        [0.9354],\n",
       "        [0.9555],\n",
       "        [0.9756]], grad_fn=<AddmmBackward0>)"
      ]
     },
     "execution_count": 31,
     "metadata": {},
     "output_type": "execute_result"
    }
   ],
   "source": [
    "new_model(X_test)"
   ]
  },
  {
   "cell_type": "code",
   "execution_count": null,
   "id": "ccdab35b",
   "metadata": {},
   "outputs": [],
   "source": []
  }
 ],
 "metadata": {
  "kernelspec": {
   "display_name": "Python 3 (ipykernel)",
   "language": "python",
   "name": "python3"
  },
  "language_info": {
   "codemirror_mode": {
    "name": "ipython",
    "version": 3
   },
   "file_extension": ".py",
   "mimetype": "text/x-python",
   "name": "python",
   "nbconvert_exporter": "python",
   "pygments_lexer": "ipython3",
   "version": "3.8.19"
  }
 },
 "nbformat": 4,
 "nbformat_minor": 5
}
